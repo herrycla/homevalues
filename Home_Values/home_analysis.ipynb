{
 "cells": [
  {
   "cell_type": "code",
   "execution_count": 330,
   "metadata": {},
   "outputs": [],
   "source": [
    "import os\n",
    "import pandas as pd\n",
    "import numpy as np\n",
    "from numpy import array\n",
    "import datetime\n",
    "import matplotlib.pyplot as plt\n",
    "from sklearn import linear_model\n",
    "from sklearn.model_selection import train_test_split\n",
    "from keras.models import Sequential\n",
    "from keras.layers import Dense, Dropout\n",
    "from keras import metrics\n",
    "import seaborn as sns\n",
    "from keras import backend as K\n",
    "from keras.wrappers.scikit_learn import KerasRegressor\n",
    "from sklearn.model_selection import cross_val_score\n",
    "from sklearn.model_selection import KFold\n",
    "from sklearn.preprocessing import StandardScaler\n",
    "from sklearn.pipeline import Pipeline"
   ]
  },
  {
   "cell_type": "code",
   "execution_count": 331,
   "metadata": {},
   "outputs": [],
   "source": [
    "csv_homepath = \"./home_values.csv\"\n",
    "csv_interestpath = \"./interest_rates.csv\""
   ]
  },
  {
   "cell_type": "code",
   "execution_count": 332,
   "metadata": {},
   "outputs": [],
   "source": [
    "home_df = pd.read_csv(csv_homepath)"
   ]
  },
  {
   "cell_type": "code",
   "execution_count": 333,
   "metadata": {},
   "outputs": [],
   "source": [
    "interest_df = pd.read_csv(csv_interestpath)"
   ]
  },
  {
   "cell_type": "code",
   "execution_count": 334,
   "metadata": {},
   "outputs": [
    {
     "data": {
      "text/html": [
       "<div>\n",
       "<style scoped>\n",
       "    .dataframe tbody tr th:only-of-type {\n",
       "        vertical-align: middle;\n",
       "    }\n",
       "\n",
       "    .dataframe tbody tr th {\n",
       "        vertical-align: top;\n",
       "    }\n",
       "\n",
       "    .dataframe thead th {\n",
       "        text-align: right;\n",
       "    }\n",
       "</style>\n",
       "<table border=\"1\" class=\"dataframe\">\n",
       "  <thead>\n",
       "    <tr style=\"text-align: right;\">\n",
       "      <th></th>\n",
       "      <th>RegionID</th>\n",
       "      <th>SizeRank</th>\n",
       "      <th>RegionName</th>\n",
       "      <th>RegionType</th>\n",
       "      <th>StateName</th>\n",
       "      <th>InterestAverage_2005</th>\n",
       "      <th>InterestAverage_2010</th>\n",
       "      <th>InterestAverage_2015</th>\n",
       "      <th>InterestAverage_2020</th>\n",
       "      <th>Average_2005</th>\n",
       "      <th>Average_2010</th>\n",
       "      <th>Average_2015</th>\n",
       "      <th>Average_2020</th>\n",
       "    </tr>\n",
       "  </thead>\n",
       "  <tbody>\n",
       "    <tr>\n",
       "      <th>0</th>\n",
       "      <td>102001</td>\n",
       "      <td>0</td>\n",
       "      <td>UnitedStates</td>\n",
       "      <td>Country</td>\n",
       "      <td>NaN</td>\n",
       "      <td>5.866731</td>\n",
       "      <td>4.689808</td>\n",
       "      <td>3.850577</td>\n",
       "      <td>3.432857</td>\n",
       "      <td>195475</td>\n",
       "      <td>174184</td>\n",
       "      <td>194076</td>\n",
       "      <td>248850</td>\n",
       "    </tr>\n",
       "    <tr>\n",
       "      <th>1</th>\n",
       "      <td>394913</td>\n",
       "      <td>1</td>\n",
       "      <td>NewYorkCity</td>\n",
       "      <td>Msa</td>\n",
       "      <td>NY</td>\n",
       "      <td>5.866731</td>\n",
       "      <td>4.689808</td>\n",
       "      <td>3.850577</td>\n",
       "      <td>3.432857</td>\n",
       "      <td>444629</td>\n",
       "      <td>403317</td>\n",
       "      <td>414806</td>\n",
       "      <td>486502</td>\n",
       "    </tr>\n",
       "    <tr>\n",
       "      <th>2</th>\n",
       "      <td>753899</td>\n",
       "      <td>2</td>\n",
       "      <td>LosAngeles</td>\n",
       "      <td>Msa</td>\n",
       "      <td>CA</td>\n",
       "      <td>5.866731</td>\n",
       "      <td>4.689808</td>\n",
       "      <td>3.850577</td>\n",
       "      <td>3.432857</td>\n",
       "      <td>560105</td>\n",
       "      <td>432976</td>\n",
       "      <td>547017</td>\n",
       "      <td>694156</td>\n",
       "    </tr>\n",
       "    <tr>\n",
       "      <th>3</th>\n",
       "      <td>394463</td>\n",
       "      <td>3</td>\n",
       "      <td>Chicago,IL</td>\n",
       "      <td>Msa</td>\n",
       "      <td>IL</td>\n",
       "      <td>5.866731</td>\n",
       "      <td>4.689808</td>\n",
       "      <td>3.850577</td>\n",
       "      <td>3.432857</td>\n",
       "      <td>256753</td>\n",
       "      <td>210135</td>\n",
       "      <td>206541</td>\n",
       "      <td>243143</td>\n",
       "    </tr>\n",
       "    <tr>\n",
       "      <th>4</th>\n",
       "      <td>394514</td>\n",
       "      <td>4</td>\n",
       "      <td>Dallas-FortWorth,TX</td>\n",
       "      <td>Msa</td>\n",
       "      <td>TX</td>\n",
       "      <td>5.866731</td>\n",
       "      <td>4.689808</td>\n",
       "      <td>3.850577</td>\n",
       "      <td>3.432857</td>\n",
       "      <td>152478</td>\n",
       "      <td>150397</td>\n",
       "      <td>183593</td>\n",
       "      <td>256061</td>\n",
       "    </tr>\n",
       "  </tbody>\n",
       "</table>\n",
       "</div>"
      ],
      "text/plain": [
       "   RegionID  SizeRank           RegionName RegionType StateName  \\\n",
       "0    102001         0         UnitedStates    Country       NaN   \n",
       "1    394913         1          NewYorkCity        Msa        NY   \n",
       "2    753899         2           LosAngeles        Msa        CA   \n",
       "3    394463         3           Chicago,IL        Msa        IL   \n",
       "4    394514         4  Dallas-FortWorth,TX        Msa        TX   \n",
       "\n",
       "   InterestAverage_2005  InterestAverage_2010  InterestAverage_2015  \\\n",
       "0              5.866731              4.689808              3.850577   \n",
       "1              5.866731              4.689808              3.850577   \n",
       "2              5.866731              4.689808              3.850577   \n",
       "3              5.866731              4.689808              3.850577   \n",
       "4              5.866731              4.689808              3.850577   \n",
       "\n",
       "   InterestAverage_2020 Average_2005 Average_2010 Average_2015  Average_2020  \n",
       "0              3.432857       195475       174184       194076        248850  \n",
       "1              3.432857       444629       403317       414806        486502  \n",
       "2              3.432857       560105       432976       547017        694156  \n",
       "3              3.432857       256753       210135       206541        243143  \n",
       "4              3.432857       152478       150397       183593        256061  "
      ]
     },
     "execution_count": 334,
     "metadata": {},
     "output_type": "execute_result"
    }
   ],
   "source": [
    "home_df.head()"
   ]
  },
  {
   "cell_type": "code",
   "execution_count": 335,
   "metadata": {
    "scrolled": true
   },
   "outputs": [],
   "source": [
    "df_2005= home_df[['RegionName', 'StateName','InterestAverage_2005','Average_2005']]\n",
    "df_2010= home_df[['RegionName', 'StateName','InterestAverage_2010','Average_2010']]\n",
    "df_2015= home_df[['RegionName', 'StateName','InterestAverage_2015','Average_2015']]\n",
    "df_2020= home_df[['RegionName', 'StateName','InterestAverage_2020','Average_2020']]\n"
   ]
  },
  {
   "cell_type": "code",
   "execution_count": 336,
   "metadata": {},
   "outputs": [
    {
     "data": {
      "text/html": [
       "<div>\n",
       "<style scoped>\n",
       "    .dataframe tbody tr th:only-of-type {\n",
       "        vertical-align: middle;\n",
       "    }\n",
       "\n",
       "    .dataframe tbody tr th {\n",
       "        vertical-align: top;\n",
       "    }\n",
       "\n",
       "    .dataframe thead th {\n",
       "        text-align: right;\n",
       "    }\n",
       "</style>\n",
       "<table border=\"1\" class=\"dataframe\">\n",
       "  <thead>\n",
       "    <tr style=\"text-align: right;\">\n",
       "      <th></th>\n",
       "      <th>RegionName</th>\n",
       "      <th>StateName</th>\n",
       "      <th>InterestAverage_2005</th>\n",
       "      <th>Average_2005</th>\n",
       "    </tr>\n",
       "  </thead>\n",
       "  <tbody>\n",
       "    <tr>\n",
       "      <th>0</th>\n",
       "      <td>UnitedStates</td>\n",
       "      <td>NaN</td>\n",
       "      <td>5.866731</td>\n",
       "      <td>195475</td>\n",
       "    </tr>\n",
       "    <tr>\n",
       "      <th>1</th>\n",
       "      <td>NewYorkCity</td>\n",
       "      <td>NY</td>\n",
       "      <td>5.866731</td>\n",
       "      <td>444629</td>\n",
       "    </tr>\n",
       "    <tr>\n",
       "      <th>2</th>\n",
       "      <td>LosAngeles</td>\n",
       "      <td>CA</td>\n",
       "      <td>5.866731</td>\n",
       "      <td>560105</td>\n",
       "    </tr>\n",
       "    <tr>\n",
       "      <th>3</th>\n",
       "      <td>Chicago,IL</td>\n",
       "      <td>IL</td>\n",
       "      <td>5.866731</td>\n",
       "      <td>256753</td>\n",
       "    </tr>\n",
       "    <tr>\n",
       "      <th>4</th>\n",
       "      <td>Dallas-FortWorth,TX</td>\n",
       "      <td>TX</td>\n",
       "      <td>5.866731</td>\n",
       "      <td>152478</td>\n",
       "    </tr>\n",
       "  </tbody>\n",
       "</table>\n",
       "</div>"
      ],
      "text/plain": [
       "            RegionName StateName  InterestAverage_2005 Average_2005\n",
       "0         UnitedStates       NaN              5.866731       195475\n",
       "1          NewYorkCity        NY              5.866731       444629\n",
       "2           LosAngeles        CA              5.866731       560105\n",
       "3           Chicago,IL        IL              5.866731       256753\n",
       "4  Dallas-FortWorth,TX        TX              5.866731       152478"
      ]
     },
     "execution_count": 336,
     "metadata": {},
     "output_type": "execute_result"
    }
   ],
   "source": [
    "df_2005.head()"
   ]
  },
  {
   "cell_type": "code",
   "execution_count": 337,
   "metadata": {},
   "outputs": [
    {
     "name": "stderr",
     "output_type": "stream",
     "text": [
      "C:\\Users\\Clare\\Anaconda3\\lib\\site-packages\\ipykernel_launcher.py:1: SettingWithCopyWarning: \n",
      "A value is trying to be set on a copy of a slice from a DataFrame.\n",
      "Try using .loc[row_indexer,col_indexer] = value instead\n",
      "\n",
      "See the caveats in the documentation: https://pandas.pydata.org/pandas-docs/stable/user_guide/indexing.html#returning-a-view-versus-a-copy\n",
      "  \"\"\"Entry point for launching an IPython kernel.\n",
      "C:\\Users\\Clare\\Anaconda3\\lib\\site-packages\\ipykernel_launcher.py:2: SettingWithCopyWarning: \n",
      "A value is trying to be set on a copy of a slice from a DataFrame.\n",
      "Try using .loc[row_indexer,col_indexer] = value instead\n",
      "\n",
      "See the caveats in the documentation: https://pandas.pydata.org/pandas-docs/stable/user_guide/indexing.html#returning-a-view-versus-a-copy\n",
      "  \n",
      "C:\\Users\\Clare\\Anaconda3\\lib\\site-packages\\ipykernel_launcher.py:3: SettingWithCopyWarning: \n",
      "A value is trying to be set on a copy of a slice from a DataFrame.\n",
      "Try using .loc[row_indexer,col_indexer] = value instead\n",
      "\n",
      "See the caveats in the documentation: https://pandas.pydata.org/pandas-docs/stable/user_guide/indexing.html#returning-a-view-versus-a-copy\n",
      "  This is separate from the ipykernel package so we can avoid doing imports until\n",
      "C:\\Users\\Clare\\Anaconda3\\lib\\site-packages\\ipykernel_launcher.py:4: SettingWithCopyWarning: \n",
      "A value is trying to be set on a copy of a slice from a DataFrame.\n",
      "Try using .loc[row_indexer,col_indexer] = value instead\n",
      "\n",
      "See the caveats in the documentation: https://pandas.pydata.org/pandas-docs/stable/user_guide/indexing.html#returning-a-view-versus-a-copy\n",
      "  after removing the cwd from sys.path.\n"
     ]
    }
   ],
   "source": [
    "df_2005['year'] = [2005 for i in range(0,len(df_2005))]\n",
    "df_2010['year'] = [2010 for i in range(0,len(df_2010))]\n",
    "df_2015['year'] = [2015 for i in range(0,len(df_2015))]\n",
    "df_2020['year'] = [2020 for i in range(0,len(df_2020))]"
   ]
  },
  {
   "cell_type": "code",
   "execution_count": 338,
   "metadata": {},
   "outputs": [
    {
     "data": {
      "text/html": [
       "<div>\n",
       "<style scoped>\n",
       "    .dataframe tbody tr th:only-of-type {\n",
       "        vertical-align: middle;\n",
       "    }\n",
       "\n",
       "    .dataframe tbody tr th {\n",
       "        vertical-align: top;\n",
       "    }\n",
       "\n",
       "    .dataframe thead th {\n",
       "        text-align: right;\n",
       "    }\n",
       "</style>\n",
       "<table border=\"1\" class=\"dataframe\">\n",
       "  <thead>\n",
       "    <tr style=\"text-align: right;\">\n",
       "      <th></th>\n",
       "      <th>RegionName</th>\n",
       "      <th>StateName</th>\n",
       "      <th>InterestAverage_2005</th>\n",
       "      <th>Average_2005</th>\n",
       "      <th>year</th>\n",
       "    </tr>\n",
       "  </thead>\n",
       "  <tbody>\n",
       "    <tr>\n",
       "      <th>0</th>\n",
       "      <td>UnitedStates</td>\n",
       "      <td>NaN</td>\n",
       "      <td>5.866731</td>\n",
       "      <td>195475</td>\n",
       "      <td>2005</td>\n",
       "    </tr>\n",
       "    <tr>\n",
       "      <th>1</th>\n",
       "      <td>NewYorkCity</td>\n",
       "      <td>NY</td>\n",
       "      <td>5.866731</td>\n",
       "      <td>444629</td>\n",
       "      <td>2005</td>\n",
       "    </tr>\n",
       "    <tr>\n",
       "      <th>2</th>\n",
       "      <td>LosAngeles</td>\n",
       "      <td>CA</td>\n",
       "      <td>5.866731</td>\n",
       "      <td>560105</td>\n",
       "      <td>2005</td>\n",
       "    </tr>\n",
       "    <tr>\n",
       "      <th>3</th>\n",
       "      <td>Chicago,IL</td>\n",
       "      <td>IL</td>\n",
       "      <td>5.866731</td>\n",
       "      <td>256753</td>\n",
       "      <td>2005</td>\n",
       "    </tr>\n",
       "    <tr>\n",
       "      <th>4</th>\n",
       "      <td>Dallas-FortWorth,TX</td>\n",
       "      <td>TX</td>\n",
       "      <td>5.866731</td>\n",
       "      <td>152478</td>\n",
       "      <td>2005</td>\n",
       "    </tr>\n",
       "  </tbody>\n",
       "</table>\n",
       "</div>"
      ],
      "text/plain": [
       "            RegionName StateName  InterestAverage_2005 Average_2005  year\n",
       "0         UnitedStates       NaN              5.866731       195475  2005\n",
       "1          NewYorkCity        NY              5.866731       444629  2005\n",
       "2           LosAngeles        CA              5.866731       560105  2005\n",
       "3           Chicago,IL        IL              5.866731       256753  2005\n",
       "4  Dallas-FortWorth,TX        TX              5.866731       152478  2005"
      ]
     },
     "execution_count": 338,
     "metadata": {},
     "output_type": "execute_result"
    }
   ],
   "source": [
    "df_2005.head()"
   ]
  },
  {
   "cell_type": "code",
   "execution_count": 339,
   "metadata": {},
   "outputs": [],
   "source": [
    "df_2005 = df_2005.rename(columns = {'InterestAverage_2005': 'interest_rates','Average_2005':'home_values'})\n",
    "df_2010 = df_2010.rename(columns = {'InterestAverage_2010': 'interest_rates','Average_2010':'home_values'})\n",
    "df_2015 = df_2015.rename(columns = {'InterestAverage_2015': 'interest_rates','Average_2015':'home_values'})\n",
    "df_2020 = df_2020.rename(columns = {'InterestAverage_2020': 'interest_rates','Average_2020':'home_values'})"
   ]
  },
  {
   "cell_type": "code",
   "execution_count": 340,
   "metadata": {},
   "outputs": [],
   "source": [
    "df_homeinterest = pd.concat([df_2005,df_2010,df_2015,df_2020])"
   ]
  },
  {
   "cell_type": "code",
   "execution_count": 341,
   "metadata": {},
   "outputs": [
    {
     "data": {
      "text/html": [
       "<div>\n",
       "<style scoped>\n",
       "    .dataframe tbody tr th:only-of-type {\n",
       "        vertical-align: middle;\n",
       "    }\n",
       "\n",
       "    .dataframe tbody tr th {\n",
       "        vertical-align: top;\n",
       "    }\n",
       "\n",
       "    .dataframe thead th {\n",
       "        text-align: right;\n",
       "    }\n",
       "</style>\n",
       "<table border=\"1\" class=\"dataframe\">\n",
       "  <thead>\n",
       "    <tr style=\"text-align: right;\">\n",
       "      <th></th>\n",
       "      <th>RegionName</th>\n",
       "      <th>StateName</th>\n",
       "      <th>interest_rates</th>\n",
       "      <th>home_values</th>\n",
       "      <th>year</th>\n",
       "    </tr>\n",
       "  </thead>\n",
       "  <tbody>\n",
       "    <tr>\n",
       "      <th>0</th>\n",
       "      <td>UnitedStates</td>\n",
       "      <td>NaN</td>\n",
       "      <td>5.866731</td>\n",
       "      <td>195475</td>\n",
       "      <td>2005</td>\n",
       "    </tr>\n",
       "    <tr>\n",
       "      <th>1</th>\n",
       "      <td>NewYorkCity</td>\n",
       "      <td>NY</td>\n",
       "      <td>5.866731</td>\n",
       "      <td>444629</td>\n",
       "      <td>2005</td>\n",
       "    </tr>\n",
       "    <tr>\n",
       "      <th>2</th>\n",
       "      <td>LosAngeles</td>\n",
       "      <td>CA</td>\n",
       "      <td>5.866731</td>\n",
       "      <td>560105</td>\n",
       "      <td>2005</td>\n",
       "    </tr>\n",
       "    <tr>\n",
       "      <th>3</th>\n",
       "      <td>Chicago,IL</td>\n",
       "      <td>IL</td>\n",
       "      <td>5.866731</td>\n",
       "      <td>256753</td>\n",
       "      <td>2005</td>\n",
       "    </tr>\n",
       "    <tr>\n",
       "      <th>4</th>\n",
       "      <td>Dallas-FortWorth,TX</td>\n",
       "      <td>TX</td>\n",
       "      <td>5.866731</td>\n",
       "      <td>152478</td>\n",
       "      <td>2005</td>\n",
       "    </tr>\n",
       "  </tbody>\n",
       "</table>\n",
       "</div>"
      ],
      "text/plain": [
       "            RegionName StateName  interest_rates home_values  year\n",
       "0         UnitedStates       NaN        5.866731      195475  2005\n",
       "1          NewYorkCity        NY        5.866731      444629  2005\n",
       "2           LosAngeles        CA        5.866731      560105  2005\n",
       "3           Chicago,IL        IL        5.866731      256753  2005\n",
       "4  Dallas-FortWorth,TX        TX        5.866731      152478  2005"
      ]
     },
     "execution_count": 341,
     "metadata": {},
     "output_type": "execute_result"
    }
   ],
   "source": [
    "df_homeinterest.head()"
   ]
  },
  {
   "cell_type": "code",
   "execution_count": 342,
   "metadata": {},
   "outputs": [],
   "source": [
    "df_FL = df_homeinterest.RegionName.str.contains(\"Miami\")\n",
    "df_NY = df_homeinterest.RegionName.str.contains(\"NewYorkCity\")\n",
    "df_LA = df_homeinterest.RegionName.str.contains(\"LosAngeles\")\n",
    "df_HI = df_homeinterest.RegionName.str.contains(\"Honolulu\")\n",
    "df_SF = df_homeinterest.RegionName.str.contains(\"SanFrancisco\")\n",
    "df_OR = df_homeinterest.RegionName.str.contains(\"Orlando\")\n",
    "df_LV = df_homeinterest.RegionName.str.contains(\"Las Vegas\")\n",
    "df_TX = df_homeinterest.RegionName.str.contains(\"Houston\")\n",
    "df_DC = df_homeinterest.RegionName.str.contains(\"DistrictColumbia\")\n",
    "df_BO = df_homeinterest.RegionName.str.contains(\"Boston\")\n",
    "dffl= df_homeinterest[df_FL]\n",
    "dfny= df_homeinterest[df_NY]\n",
    "dfla= df_homeinterest[df_LA]\n",
    "dfhi= df_homeinterest[df_HI]\n",
    "dfsf= df_homeinterest[df_SF]\n",
    "dfor= df_homeinterest[df_OR]\n",
    "dflv= df_homeinterest[df_LV]\n",
    "dftx= df_homeinterest[df_TX]\n",
    "dfdc= df_homeinterest[df_DC]\n",
    "dfbo= df_homeinterest[df_BO]"
   ]
  },
  {
   "cell_type": "code",
   "execution_count": 343,
   "metadata": {},
   "outputs": [],
   "source": [
    "dftt = df_homeinterest[(df_homeinterest.RegionName == 'Miami') | (df_homeinterest.RegionName == 'NewYorkCity') | (df_homeinterest.RegionName == 'LosAngeles')  | (df_homeinterest.RegionName == 'Honolulu')| (df_homeinterest.RegionName == 'SanFrancisco') | (df_homeinterest.RegionName == 'Orlando') | (df_homeinterest.RegionName == 'LasVegas')| (df_homeinterest.RegionName == 'Houston') | (df_homeinterest.RegionName == 'DistrictColumbia')| (df_homeinterest.RegionName == 'Boston')]"
   ]
  },
  {
   "cell_type": "code",
   "execution_count": 344,
   "metadata": {},
   "outputs": [
    {
     "data": {
      "text/html": [
       "<div>\n",
       "<style scoped>\n",
       "    .dataframe tbody tr th:only-of-type {\n",
       "        vertical-align: middle;\n",
       "    }\n",
       "\n",
       "    .dataframe tbody tr th {\n",
       "        vertical-align: top;\n",
       "    }\n",
       "\n",
       "    .dataframe thead th {\n",
       "        text-align: right;\n",
       "    }\n",
       "</style>\n",
       "<table border=\"1\" class=\"dataframe\">\n",
       "  <thead>\n",
       "    <tr style=\"text-align: right;\">\n",
       "      <th></th>\n",
       "      <th>RegionName</th>\n",
       "      <th>StateName</th>\n",
       "      <th>interest_rates</th>\n",
       "      <th>home_values</th>\n",
       "      <th>year</th>\n",
       "    </tr>\n",
       "  </thead>\n",
       "  <tbody>\n",
       "    <tr>\n",
       "      <th>1</th>\n",
       "      <td>NewYorkCity</td>\n",
       "      <td>NY</td>\n",
       "      <td>5.866731</td>\n",
       "      <td>444629</td>\n",
       "      <td>2005</td>\n",
       "    </tr>\n",
       "    <tr>\n",
       "      <th>2</th>\n",
       "      <td>LosAngeles</td>\n",
       "      <td>CA</td>\n",
       "      <td>5.866731</td>\n",
       "      <td>560105</td>\n",
       "      <td>2005</td>\n",
       "    </tr>\n",
       "    <tr>\n",
       "      <th>6</th>\n",
       "      <td>Houston</td>\n",
       "      <td>TX</td>\n",
       "      <td>5.866731</td>\n",
       "      <td>147495</td>\n",
       "      <td>2005</td>\n",
       "    </tr>\n",
       "    <tr>\n",
       "      <th>7</th>\n",
       "      <td>DistrictColumbia</td>\n",
       "      <td>DC</td>\n",
       "      <td>5.866731</td>\n",
       "      <td>417251</td>\n",
       "      <td>2005</td>\n",
       "    </tr>\n",
       "    <tr>\n",
       "      <th>8</th>\n",
       "      <td>Miami</td>\n",
       "      <td>FL</td>\n",
       "      <td>5.866731</td>\n",
       "      <td>271555</td>\n",
       "      <td>2005</td>\n",
       "    </tr>\n",
       "  </tbody>\n",
       "</table>\n",
       "</div>"
      ],
      "text/plain": [
       "         RegionName StateName  interest_rates home_values  year\n",
       "1       NewYorkCity        NY        5.866731      444629  2005\n",
       "2        LosAngeles        CA        5.866731      560105  2005\n",
       "6           Houston        TX        5.866731      147495  2005\n",
       "7  DistrictColumbia        DC        5.866731      417251  2005\n",
       "8             Miami        FL        5.866731      271555  2005"
      ]
     },
     "execution_count": 344,
     "metadata": {},
     "output_type": "execute_result"
    }
   ],
   "source": [
    "dftt.head()"
   ]
  },
  {
   "cell_type": "code",
   "execution_count": 345,
   "metadata": {},
   "outputs": [],
   "source": [
    "dftt.to_csv(\"th.csv\")"
   ]
  },
  {
   "cell_type": "code",
   "execution_count": 346,
   "metadata": {},
   "outputs": [
    {
     "name": "stdout",
     "output_type": "stream",
     "text": [
      "(40, 1) (40, 1)\n"
     ]
    }
   ],
   "source": [
    "x = dftt['interest_rates'].values.reshape(-1, 1)\n",
    "y = dftt[\"home_values\"].values.reshape(-1, 1)\n",
    "\n",
    "df_x = x\n",
    "df_y = y\n",
    "print(df_x.shape, df_y.shape)"
   ]
  },
  {
   "cell_type": "code",
   "execution_count": 347,
   "metadata": {},
   "outputs": [
    {
     "name": "stdout",
     "output_type": "stream",
     "text": [
      "Shape:  (40, 1) (40, 1)\n"
     ]
    }
   ],
   "source": [
    "dataset = pd.read_csv('officialhomevalues.csv')\n",
    "X = dataset.iloc[:, 3].values.reshape(-1, 1)\n",
    "y = dataset.iloc[:, 4].values.reshape(-1, 1)\n",
    "\n",
    "print(\"Shape: \", X.shape, y.shape)\n",
    "# X = dataset.iloc[:, 3].values\n",
    "# y = dataset.iloc[:, 4].values"
   ]
  },
  {
   "cell_type": "code",
   "execution_count": 348,
   "metadata": {},
   "outputs": [],
   "source": [
    "from sklearn.model_selection import train_test_split\n",
    "X_train, X_test, y_train, y_test = train_test_split(X, y, test_size = 1/3, random_state = 0)"
   ]
  },
  {
   "cell_type": "code",
   "execution_count": 349,
   "metadata": {},
   "outputs": [
    {
     "data": {
      "text/plain": [
       "LinearRegression(copy_X=True, fit_intercept=True, n_jobs=None, normalize=False)"
      ]
     },
     "execution_count": 349,
     "metadata": {},
     "output_type": "execute_result"
    }
   ],
   "source": [
    "from sklearn.linear_model import LinearRegression\n",
    "regressor = LinearRegression()\n",
    "regressor.fit(X_train, y_train)"
   ]
  },
  {
   "cell_type": "code",
   "execution_count": 350,
   "metadata": {},
   "outputs": [],
   "source": [
    "y_pred = regressor.predict(X_test)"
   ]
  },
  {
   "cell_type": "code",
   "execution_count": 351,
   "metadata": {},
   "outputs": [
    {
     "data": {
      "image/png": "[encoded data removed]",
      "text/plain": [
       "<Figure size 432x288 with 1 Axes>"
      ]
     },
     "metadata": {
      "needs_background": "light"
     },
     "output_type": "display_data"
    }
   ],
   "source": [
    "# Linear Regression based upon actual data points\n",
    "plt.scatter(X_train, y_train, color = 'red')\n",
    "plt.plot(X_train, regressor.predict(X_train), color = 'blue')\n",
    "plt.title('interest rate vs house value')\n",
    "plt.xlabel('intersest rate ')\n",
    "plt.ylabel('house value')\n",
    "plt.show()"
   ]
  },
  {
   "cell_type": "code",
   "execution_count": 352,
   "metadata": {},
   "outputs": [
    {
     "data": {
      "image/png": "[encoded data removed]",
      "text/plain": [
       "<Figure size 432x288 with 1 Axes>"
      ]
     },
     "metadata": {
      "needs_background": "light"
     },
     "output_type": "display_data"
    }
   ],
   "source": [
    "# Predicting the Test Set Results\n",
    "plt.scatter(X_test, y_test, color = 'red')\n",
    "plt.plot(X_train, regressor.predict(X_train), color = 'blue')\n",
    "plt.title('interest rate vs house value')\n",
    "plt.xlabel('intersest rate ')\n",
    "plt.ylabel('house value')\n",
    "plt.show()"
   ]
  },
  {
   "cell_type": "code",
   "execution_count": 353,
   "metadata": {},
   "outputs": [],
   "source": [
    "from sklearn.metrics import mean_squared_error, r2_score"
   ]
  },
  {
   "cell_type": "code",
   "execution_count": 354,
   "metadata": {},
   "outputs": [],
   "source": [
    "# Use our model to make predictions\n",
    "predicted = regressor.predict(X_test)\n"
   ]
  },
  {
   "cell_type": "code",
   "execution_count": 355,
   "metadata": {},
   "outputs": [
    {
     "name": "stdout",
     "output_type": "stream",
     "text": [
      "Mean Squared Error (MSE): 37084331763.21327\n",
      "R-squared (R2 ): -0.9358282530860902\n"
     ]
    }
   ],
   "source": [
    "# Score the predictions with mse and r2\n",
    "mse = mean_squared_error(y_test, predicted)\n",
    "r2 = r2_score(y_test, predicted)\n",
    "print(f\"Mean Squared Error (MSE): {mse}\")\n",
    "print(f\"R-squared (R2 ): {r2}\")"
   ]
  }
 ],
 "metadata": {
  "kernelspec": {
   "display_name": "Python 3",
   "language": "python",
   "name": "python3"
  },
  "language_info": {
   "codemirror_mode": {
    "name": "ipython",
    "version": 3
   },
   "file_extension": ".py",
   "mimetype": "text/x-python",
   "name": "python",
   "nbconvert_exporter": "python",
   "pygments_lexer": "ipython3",
   "version": "3.7.7"
  }
 },
 "nbformat": 4,
 "nbformat_minor": 4
}
